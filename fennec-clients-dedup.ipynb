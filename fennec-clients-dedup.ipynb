{
 "cells": [
  {
   "cell_type": "code",
   "execution_count": 1,
   "metadata": {
    "collapsed": false
   },
   "outputs": [
    {
     "name": "stdout",
     "output_type": "stream",
     "text": [
      "Unable to parse whitelist (/home/hadoop/anaconda2/lib/python2.7/site-packages/moztelemetry/bucket-whitelist.json). Assuming all histograms are acceptable.\n",
      "Populating the interactive namespace from numpy and matplotlib\n"
     ]
    }
   ],
   "source": [
    "import datetime as dt\n",
    "import pandas as pd\n",
    "import ujson as json\n",
    "\n",
    "from moztelemetry import get_pings, get_pings_properties, get_one_ping_per_client\n",
    "\n",
    "%pylab inline"
   ]
  },
  {
   "cell_type": "markdown",
   "metadata": {},
   "source": [
    "Create a set of pings from \"saved-session\" to build a set of core client data."
   ]
  },
  {
   "cell_type": "code",
   "execution_count": 2,
   "metadata": {
    "collapsed": true
   },
   "outputs": [],
   "source": [
    "update_channel = \"beta\"\n",
    "now = dt.datetime.now()\n",
    "start = now - dt.timedelta(30)\n",
    "end = now - dt.timedelta(1)\n",
    "\n",
    "pings = get_pings(sc, app=\"Fennec\", channel=update_channel,\n",
    "                  submission_date=(start.strftime(\"%Y%m%d\"), end.strftime(\"%Y%m%d\")),\n",
    "                  build_id=(\"20100101000000\", \"99999999999999\"),\n",
    "                  fraction=.001)\n",
    "\n",
    "subset = get_pings_properties(pings, [\"clientId\",\n",
    "                                      \"application/channel\",\n",
    "                                      \"application/version\",\n",
    "                                      \"meta/submissionDate\",\n",
    "                                      \"meta/documentId\",\n",
    "                                      \"environment/profile/creationDate\",\n",
    "                                      \"environment/system/os/version\",\n",
    "                                      \"environment/system/memoryMB\"])"
   ]
  },
  {
   "cell_type": "markdown",
   "metadata": {},
   "source": [
    "Remove any pings without a clientId."
   ]
  },
  {
   "cell_type": "code",
   "execution_count": 3,
   "metadata": {
    "collapsed": false
   },
   "outputs": [
    {
     "name": "stdout",
     "output_type": "stream",
     "text": [
      "{'meta/documentId': u'ca4cc6b7-10b4-4924-9e73-ac8806dcb01d', 'meta/submissionDate': u'20160212', 'environment/system/os/version': 21, 'application/version': u'41.0', 'application/channel': u'beta', 'clientId': u'c386a150-9a21-4929-9649-cbf930c84e10', 'environment/profile/creationDate': None, 'environment/system/memoryMB': 1817}\n"
     ]
    }
   ],
   "source": [
    "subset = subset.filter(lambda p: p[\"clientId\"] is not None)\n",
    "print subset.first()"
   ]
  },
  {
   "cell_type": "code",
   "execution_count": 4,
   "metadata": {
    "collapsed": false
   },
   "outputs": [],
   "source": [
    "#deduplicate by documentID for each client, then output as a list of \n",
    "\n",
    "#algo: http://stackoverflow.com/a/10024750\n",
    "def remove_dupes(p):\n",
    "    clientId,ping_list = p\n",
    "    seen_docs = set()\n",
    "    docs = [seen_docs.add(p[\"meta/documentId\"]) \\\n",
    "            or p for p in ping_list if p[\"meta/documentId\"] not in seen_docs]\n",
    "    return (clientId,docs)\n",
    "    \n",
    "def dedupe_by_client(rdd):\n",
    "    return rdd.map(lambda x: (x[\"clientId\"],[x]))\\\n",
    "    .reduceByKey(lambda x,y: x+y)\\\n",
    "    .map(lambda x: remove_dupes(x))\\\n",
    "    .flatMap(lambda x: x[1])\n",
    "    \n",
    "cleaned = dedupe_by_client(subset)"
   ]
  },
  {
   "cell_type": "code",
   "execution_count": 7,
   "metadata": {
    "collapsed": true
   },
   "outputs": [
    {
     "data": {
      "text/plain": [
       "[{'application/channel': u'beta',\n",
       "  'application/version': u'41.0',\n",
       "  'clientId': u'28bb43b1-4c1a-42c2-a1cb-d57a0d34c770',\n",
       "  'environment/profile/creationDate': None,\n",
       "  'environment/system/memoryMB': 1739,\n",
       "  'environment/system/os/version': 22,\n",
       "  'meta/documentId': u'3cd5aaee-964d-4908-ad1b-ef83c535de64',\n",
       "  'meta/submissionDate': u'20160208'},\n",
       " {'application/channel': u'beta',\n",
       "  'application/version': u'41.0',\n",
       "  'clientId': u'28bb43b1-4c1a-42c2-a1cb-d57a0d34c770',\n",
       "  'environment/profile/creationDate': None,\n",
       "  'environment/system/memoryMB': 1739,\n",
       "  'environment/system/os/version': 22,\n",
       "  'meta/documentId': u'5a0cda70-28e5-4ee1-aad6-7cd0d5874853',\n",
       "  'meta/submissionDate': u'20160208'},\n",
       " {'application/channel': u'beta',\n",
       "  'application/version': u'41.0',\n",
       "  'clientId': u'28bb43b1-4c1a-42c2-a1cb-d57a0d34c770',\n",
       "  'environment/profile/creationDate': None,\n",
       "  'environment/system/memoryMB': 1739,\n",
       "  'environment/system/os/version': 22,\n",
       "  'meta/documentId': u'3610144d-77a4-4130-94d6-12bbd175ad46',\n",
       "  'meta/submissionDate': u'20160208'},\n",
       " {'application/channel': u'beta',\n",
       "  'application/version': u'41.0',\n",
       "  'clientId': u'28bb43b1-4c1a-42c2-a1cb-d57a0d34c770',\n",
       "  'environment/profile/creationDate': None,\n",
       "  'environment/system/memoryMB': 1739,\n",
       "  'environment/system/os/version': 22,\n",
       "  'meta/documentId': u'351b7ef3-9f2e-4e5f-b61c-dcf39f16b6ac',\n",
       "  'meta/submissionDate': u'20160208'},\n",
       " {'application/channel': u'beta',\n",
       "  'application/version': u'45.0',\n",
       "  'clientId': u'94e950b1-5ce6-459f-ba50-a40198c81184',\n",
       "  'environment/profile/creationDate': 16309,\n",
       "  'environment/system/memoryMB': 832,\n",
       "  'environment/system/os/version': 18,\n",
       "  'meta/documentId': u'52cca5ac-c3c4-4cb9-a0b4-132766649154',\n",
       "  'meta/submissionDate': u'20160211'}]"
      ]
     },
     "execution_count": 7,
     "metadata": {},
     "output_type": "execute_result"
    }
   ],
   "source": [
    "cleaned.take(5)"
   ]
  },
  {
   "cell_type": "markdown",
   "metadata": {},
   "source": [
    "Sanitize the pings and reduce the set of pings to one ping per client per day."
   ]
  },
  {
   "cell_type": "code",
   "execution_count": 8,
   "metadata": {
    "collapsed": false
   },
   "outputs": [
    {
     "name": "stdout",
     "output_type": "stream",
     "text": [
      "[u'28bb43b1-4c1a-42c2-a1cb-d57a0d34c770', u'beta', None, u'20160208', u'41.0', 22, 1739]\n"
     ]
    }
   ],
   "source": [
    "def transform(ping):    \n",
    "    clientId = ping[\"clientId\"] # Should not be None since we filter those out\n",
    "\n",
    "    profileDate = None\n",
    "    profileDaynum = ping[\"environment/profile/creationDate\"]\n",
    "    if profileDaynum is not None:\n",
    "        profileDate = (dt.date(1970, 1, 1) + dt.timedelta(int(profileDaynum))).strftime(\"%Y%m%d\")\n",
    "\n",
    "    submissionDate = ping[\"meta/submissionDate\"] # Added via the ingestion process so should not be None\n",
    "\n",
    "    channel = ping[\"application/channel\"]\n",
    "    version = ping[\"application/version\"]\n",
    "    os_version = int(ping[\"environment/system/os/version\"])\n",
    "    memory = ping[\"environment/system/memoryMB\"]\n",
    "    if memory is None:\n",
    "        memory = 0\n",
    "    else:\n",
    "        memory = int(memory)\n",
    "            \n",
    "    return [clientId, channel, profileDate, submissionDate, version, os_version, memory]\n",
    "\n",
    "transformed = cleaned.map(transform)\n",
    "print transformed.first()"
   ]
  },
  {
   "cell_type": "markdown",
   "metadata": {},
   "source": [
    "Output the data to CSV."
   ]
  },
  {
   "cell_type": "code",
   "execution_count": 9,
   "metadata": {
    "collapsed": false
   },
   "outputs": [
    {
     "name": "stderr",
     "output_type": "stream",
     "text": [
      "/usr/lib/spark/python/pyspark/sql/dataframe.py:121: UserWarning: saveAsParquetFile is deprecated. Use write.parquet() instead.\n",
      "  warnings.warn(\"saveAsParquetFile is deprecated. Use write.parquet() instead.\")\n"
     ]
    }
   ],
   "source": [
    "grouped = pd.DataFrame(transformed.collect(), columns=[\"clientid\", \"channel\", \"profiledate\", \"submissiondate\", \"version\", \"osversion\", \"memory\"])\n",
    "!mkdir -p ./output\n",
    "grouped.to_csv(\"./output/fennec-clients-\" + update_channel + \"-\" + end.strftime(\"%Y%m%d\") + \".csv\", index=False)\n",
    "\n",
    "s3_output = \"s3n://net-mozaws-prod-us-west-2-pipeline-analysis/mfinkle/fennec-clients-\" + update_channel + \"-\" + end.strftime(\"%Y%m%d\") \n",
    "grouped = sqlContext.createDataFrame(transformed, [\"clientid\", \"channel\", \"profiledate\", \"submissiondate\", \"version\", \"osversion\", \"memory\"])\n",
    "grouped.saveAsParquetFile(s3_output)\n"
   ]
  },
  {
   "cell_type": "code",
   "execution_count": null,
   "metadata": {
    "collapsed": true
   },
   "outputs": [],
   "source": []
  }
 ],
 "metadata": {
  "kernelspec": {
   "display_name": "Python 2",
   "language": "python",
   "name": "python2"
  },
  "language_info": {
   "codemirror_mode": {
    "name": "ipython",
    "version": 2
   },
   "file_extension": ".py",
   "mimetype": "text/x-python",
   "name": "python",
   "nbconvert_exporter": "python",
   "pygments_lexer": "ipython2",
   "version": "2.7.10"
  }
 },
 "nbformat": 4,
 "nbformat_minor": 0
}
